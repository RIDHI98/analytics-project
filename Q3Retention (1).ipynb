{
  "nbformat": 4,
  "nbformat_minor": 0,
  "metadata": {
    "colab": {
      "name": "Q3Retention.ipynb",
      "provenance": []
    },
    "kernelspec": {
      "name": "python3",
      "display_name": "Python 3"
    }
  },
  "cells": [
    {
      "cell_type": "code",
      "metadata": {
        "id": "2He5Eeb0ShQg"
      },
      "source": [
        "import pandas as pd\r\n",
        "import datetime as dt\r\n",
        "import seaborn as sns\r\n",
        "import matplotlib.pyplot as plt"
      ],
      "execution_count": 1,
      "outputs": []
    },
    {
      "cell_type": "code",
      "metadata": {
        "colab": {
          "resources": {
            "http://localhost:8080/nbextensions/google.colab/files.js": {
              "data": "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",
              "ok": true,
              "headers": [
                [
                  "content-type",
                  "application/javascript"
                ]
              ],
              "status": 200,
              "status_text": ""
            }
          },
          "base_uri": "https://localhost:8080/",
          "height": 73
        },
        "id": "UFet13moSw9k",
        "outputId": "e95debf9-22a9-4c25-e5ee-b32761dcda6a"
      },
      "source": [
        "from google.colab import files\r\n",
        "uploaded=files.upload()"
      ],
      "execution_count": 2,
      "outputs": [
        {
          "output_type": "display_data",
          "data": {
            "text/html": [
              "\n",
              "     <input type=\"file\" id=\"files-27bcf9fe-f075-4c62-8e49-dd74a14ff32b\" name=\"files[]\" multiple disabled\n",
              "        style=\"border:none\" />\n",
              "     <output id=\"result-27bcf9fe-f075-4c62-8e49-dd74a14ff32b\">\n",
              "      Upload widget is only available when the cell has been executed in the\n",
              "      current browser session. Please rerun this cell to enable.\n",
              "      </output>\n",
              "      <script src=\"/nbextensions/google.colab/files.js\"></script> "
            ],
            "text/plain": [
              "<IPython.core.display.HTML object>"
            ]
          },
          "metadata": {
            "tags": []
          }
        },
        {
          "output_type": "stream",
          "text": [
            "Saving appointments_updated.csv to appointments_updated.csv\n"
          ],
          "name": "stdout"
        }
      ]
    },
    {
      "cell_type": "code",
      "metadata": {
        "colab": {
          "base_uri": "https://localhost:8080/"
        },
        "id": "22x1B13VUmtk",
        "outputId": "a70bf6e6-f043-4391-a8ce-504bbace22b4"
      },
      "source": [
        "import io\r\n",
        "df=pd.read_csv(io.BytesIO(uploaded['appointments_updated.csv']))\r\n",
        "df=df.fillna(\"NULL\")\r\n",
        "print(df)\r\n"
      ],
      "execution_count": 3,
      "outputs": [
        {
          "output_type": "stream",
          "text": [
            "                                             id  ...                   query_value\n",
            "0      119cc56861f3e602654b325802c4e373d89c8d25  ...  ophthalmologist/ eye surgeon\n",
            "1      4d2dc045f02d7b59988a1edcf9c6cef09cee18fe  ...               Ophthalmologist\n",
            "2      655188d31614f9757da766e4e9be61ebd2ec408b  ...  ophthalmologist/ eye surgeon\n",
            "3      44c395026f72db339eb32cdc223935444033df44  ...               Ophthalmologist\n",
            "4      cf481ac856902648b79a3a15060937b47bf551e4  ...               plastic surgeon\n",
            "...                                         ...  ...                           ...\n",
            "76085  b01f8891e480ca333ff374db978bd63658220ccb  ...                       Dentist\n",
            "76086  5e2b38e578100070132615d870156a6724ad2449  ...               physiotherapist\n",
            "76087  49c21aa9dc7b83828e926f42193c35bc1c457988  ...             General Physician\n",
            "76088  50f242e45421a9c85083cd8bd96f1af4106d8d08  ...             General Physician\n",
            "76089  e568930c1ef85bc820d128d300d399d952d82528  ...                       Dentist\n",
            "\n",
            "[76090 rows x 12 columns]\n"
          ],
          "name": "stdout"
        }
      ]
    },
    {
      "cell_type": "code",
      "metadata": {
        "id": "YO5S11fHU2pa"
      },
      "source": [
        "df['created_at'] = pd.to_datetime(df['created_at'])"
      ],
      "execution_count": 4,
      "outputs": []
    },
    {
      "cell_type": "code",
      "metadata": {
        "colab": {
          "base_uri": "https://localhost:8080/"
        },
        "id": "uPOhoRAoVKVh",
        "outputId": "65cd01cb-54dc-45cb-bad5-5fbb7ee1b00e"
      },
      "source": [
        "#getting the month\r\n",
        "def get_month(x): return dt.datetime(x.year, x.month, 1)\r\n",
        "\r\n",
        "df['InMonth'] = df['created_at'].apply(get_month)\r\n",
        "#cohort month : the first month for the specific patient ID when that patient booked its first appointment\r\n",
        "grouping1 = df.groupby('patient_id')['InMonth']\r\n",
        "df['CohortMonth'] = grouping1.transform('min')\r\n",
        "print(df.describe())"
      ],
      "execution_count": 5,
      "outputs": [
        {
          "output_type": "stream",
          "text": [
            "/usr/local/lib/python3.6/dist-packages/ipykernel_launcher.py:8: FutureWarning: Treating datetime data as categorical rather than numeric in `.describe` is deprecated and will be removed in a future version of pandas. Specify `datetime_is_numeric=True` to silence this warning and adopt the future behavior now.\n",
            "  \n",
            "/usr/local/lib/python3.6/dist-packages/ipykernel_launcher.py:8: FutureWarning: Treating datetime data as categorical rather than numeric in `.describe` is deprecated and will be removed in a future version of pandas. Specify `datetime_is_numeric=True` to silence this warning and adopt the future behavior now.\n",
            "  \n",
            "/usr/local/lib/python3.6/dist-packages/ipykernel_launcher.py:8: FutureWarning: Treating datetime data as categorical rather than numeric in `.describe` is deprecated and will be removed in a future version of pandas. Specify `datetime_is_numeric=True` to silence this warning and adopt the future behavior now.\n",
            "  \n"
          ],
          "name": "stderr"
        },
        {
          "output_type": "stream",
          "text": [
            "                                              id  ...          CohortMonth\n",
            "count                                      76090  ...                76090\n",
            "unique                                     76090  ...                    2\n",
            "top     38023b39ca74dd45b339920411fcedb56ea42ce1  ...  2021-01-01 00:00:00\n",
            "freq                                           1  ...                40046\n",
            "first                                        NaN  ...  2020-12-01 00:00:00\n",
            "last                                         NaN  ...  2021-01-01 00:00:00\n",
            "\n",
            "[6 rows x 14 columns]\n"
          ],
          "name": "stdout"
        }
      ]
    },
    {
      "cell_type": "code",
      "metadata": {
        "id": "n27A0MhNWOA6"
      },
      "source": [
        "#function to extract year,month,day as integers\r\n",
        "def get_date_int(df, column):\r\n",
        "    year = df[column].dt.year\r\n",
        "    month = df[column].dt.month\r\n",
        "    day = df[column].dt.day\r\n",
        "    return year, month, day\r\n",
        "#extract month\r\n",
        "in_year, in_month, _ = get_date_int(df, 'InMonth')\r\n",
        "cohort_year, cohort_month, _ = get_date_int(df, 'CohortMonth')"
      ],
      "execution_count": 6,
      "outputs": []
    },
    {
      "cell_type": "code",
      "metadata": {
        "id": "LoO3n0KtWbeO"
      },
      "source": [
        "years_diff = in_year - cohort_year\r\n",
        "months_diff = in_month - cohort_month"
      ],
      "execution_count": 7,
      "outputs": []
    },
    {
      "cell_type": "code",
      "metadata": {
        "colab": {
          "base_uri": "https://localhost:8080/"
        },
        "id": "xH3TvOXaWeOI",
        "outputId": "ea0630f8-3ebb-41e6-d6c5-36956886185e"
      },
      "source": [
        "#cohort index : the month difference between booking month and cohort month for each row.\r\n",
        "df['CohortIndex'] = years_diff * 12 + months_diff + 1\r\n",
        "print(df.head())\r\n",
        "dft=df.to_csv('useit.csv')"
      ],
      "execution_count": 8,
      "outputs": [
        {
          "output_type": "stream",
          "text": [
            "                                         id  ... CohortIndex\n",
            "0  119cc56861f3e602654b325802c4e373d89c8d25  ...           1\n",
            "1  4d2dc045f02d7b59988a1edcf9c6cef09cee18fe  ...           1\n",
            "2  655188d31614f9757da766e4e9be61ebd2ec408b  ...           1\n",
            "3  44c395026f72db339eb32cdc223935444033df44  ...           1\n",
            "4  cf481ac856902648b79a3a15060937b47bf551e4  ...           1\n",
            "\n",
            "[5 rows x 15 columns]\n"
          ],
          "name": "stdout"
        }
      ]
    },
    {
      "cell_type": "markdown",
      "metadata": {
        "id": "Ekz7TOpYuAmh"
      },
      "source": [
        "OVERALL RETENTION RATE CALCULATION\r\n",
        "\r\n",
        "# in the o/p below :\r\n",
        "row: represents users first transaction\r\n",
        "col: represents no of users who booked an appointment\r\n"
      ]
    },
    {
      "cell_type": "code",
      "metadata": {
        "colab": {
          "base_uri": "https://localhost:8080/"
        },
        "id": "0cPOBAQuWwDu",
        "outputId": "dedf70ae-64e5-42ae-a9aa-b968aab16d6a"
      },
      "source": [
        "grouping_count = df.groupby(['CohortMonth', 'CohortIndex'])\r\n",
        "cohort_data = grouping_count['patient_id'].apply(pd.Series.nunique)\r\n",
        "cohort_data = cohort_data.reset_index()\r\n",
        "cohort_counts = cohort_data.pivot(index='CohortMonth',\r\n",
        "                                  columns='CohortIndex',\r\n",
        "                                  values='patient_id')\r\n",
        "print(cohort_counts)\r\n",
        "dfs=cohort_counts.to_csv(\"file.csv\")\r\n"
      ],
      "execution_count": 9,
      "outputs": [
        {
          "output_type": "stream",
          "text": [
            "CohortIndex        1      2\n",
            "CohortMonth                \n",
            "2020-12-01   34255.0  509.0\n",
            "2021-01-01   38837.0    NaN\n"
          ],
          "name": "stdout"
        }
      ]
    },
    {
      "cell_type": "markdown",
      "metadata": {
        "id": "ItVAr0uiv9pu"
      },
      "source": [
        ""
      ]
    },
    {
      "cell_type": "code",
      "metadata": {
        "colab": {
          "base_uri": "https://localhost:8080/"
        },
        "id": "xM5fgErAXHj_",
        "outputId": "3a330d11-0a85-42eb-f6b6-8eea53b7b484"
      },
      "source": [
        "#calculate retention rate\r\n",
        "cohort_sizes = cohort_counts.iloc[:,0]\r\n",
        "retention = cohort_counts.divide(cohort_sizes, axis=0)\r\n",
        "retention.round(3) * 100\r\n",
        "retention.index = retention.index.strftime('%m-%Y')\r\n",
        "print(retention)\r\n",
        "dfs1=retention.to_csv(\"file2.csv\")\r\n"
      ],
      "execution_count": 10,
      "outputs": [
        {
          "output_type": "stream",
          "text": [
            "CohortIndex    1         2\n",
            "CohortMonth               \n",
            "12-2020      1.0  0.014859\n",
            "01-2021      1.0       NaN\n"
          ],
          "name": "stdout"
        }
      ]
    },
    {
      "cell_type": "code",
      "metadata": {
        "colab": {
          "base_uri": "https://localhost:8080/",
          "height": 513
        },
        "id": "ljdn8T3qXtXT",
        "outputId": "5516f57b-80db-4c6c-b937-a6a934b111f9"
      },
      "source": [
        "#plotting heatmap with seaborn for visualisation\r\n",
        "plt.figure(figsize=(10, 8))\r\n",
        "plt.title('Retention rates')\r\n",
        "sns.heatmap(data = retention, annot = True, fmt = '.0%',vmin = 0.0,vmax = 0.5,cmap = 'BuGn')\r\n",
        "plt.show()"
      ],
      "execution_count": 11,
      "outputs": [
        {
          "output_type": "display_data",
          "data": {
            "image/png": "[encoded data removed]",
            "text/plain": [
              "<Figure size 720x576 with 2 Axes>"
            ]
          },
          "metadata": {
            "tags": [],
            "needs_background": "light"
          }
        }
      ]
    },
    {
      "cell_type": "markdown",
      "metadata": {
        "id": "M0JMrC3BL4y5"
      },
      "source": [
        "\r\n",
        "RETENTION RATE CALCULATION WHEN CITY=AHMEDABAD"
      ]
    },
    {
      "cell_type": "code",
      "metadata": {
        "colab": {
          "base_uri": "https://localhost:8080/",
          "height": 669
        },
        "id": "piDWbWZoaicq",
        "outputId": "e09166f3-a780-45f6-db97-55e87501960e"
      },
      "source": [
        "dfcitya = df[df['city']=='Ahmedabad']\r\n",
        "print(dfcitya.shape)\r\n",
        "grouping_count = dfcitya.groupby(['CohortMonth', 'CohortIndex'])\r\n",
        "cohort_data = grouping_count['patient_id'].apply(pd.Series.nunique)\r\n",
        "cohort_data = cohort_data.reset_index()\r\n",
        "cohort_counts = cohort_data.pivot(index='CohortMonth',\r\n",
        "                                  columns='CohortIndex',\r\n",
        "                                  values='patient_id')\r\n",
        "print(cohort_counts)\r\n",
        "\r\n",
        "cohort_sizes = cohort_counts.iloc[:,0]\r\n",
        "retention = cohort_counts.divide(cohort_sizes, axis=0)\r\n",
        "retention.round(3) * 100\r\n",
        "retention.index = retention.index.strftime('%m-%Y')\r\n",
        "print(retention)\r\n",
        "\r\n",
        "plt.figure(figsize=(10, 8))\r\n",
        "plt.title('Retention rates')\r\n",
        "sns.heatmap(data = retention, annot = True, fmt = '.0%',vmin = 0.0,vmax = 0.5,cmap = 'BuGn')\r\n",
        "plt.show()\r\n",
        "dfs7=cohort_counts.to_csv(\"ahmdbr.csv\")"
      ],
      "execution_count": 12,
      "outputs": [
        {
          "output_type": "stream",
          "text": [
            "(348, 15)\n",
            "CohortIndex      1    2\n",
            "CohortMonth            \n",
            "2020-12-01   157.0  2.0\n",
            "2021-01-01   179.0  NaN\n",
            "CohortIndex    1         2\n",
            "CohortMonth               \n",
            "12-2020      1.0  0.012739\n",
            "01-2021      1.0       NaN\n"
          ],
          "name": "stdout"
        },
        {
          "output_type": "display_data",
          "data": {
            "image/png": "[encoded data removed]",
            "text/plain": [
              "<Figure size 720x576 with 2 Axes>"
            ]
          },
          "metadata": {
            "tags": [],
            "needs_background": "light"
          }
        }
      ]
    },
    {
      "cell_type": "markdown",
      "metadata": {
        "id": "DBA-42HIMDtJ"
      },
      "source": [
        "RETENTION RATE CALCULATION WHEN SOURCE=ANDROID\r\n"
      ]
    },
    {
      "cell_type": "code",
      "metadata": {
        "colab": {
          "base_uri": "https://localhost:8080/",
          "height": 669
        },
        "id": "FUXC95ERb5CC",
        "outputId": "fdb75690-a161-4e27-c8da-e89a17ac3797"
      },
      "source": [
        "dfsource = df[df['source']=='android']\r\n",
        "print(dfsource.shape)\r\n",
        "grouping_count = dfsource.groupby(['CohortMonth', 'CohortIndex'])\r\n",
        "cohort_data = grouping_count['patient_id'].apply(pd.Series.nunique)\r\n",
        "cohort_data = cohort_data.reset_index()\r\n",
        "cohort_counts = cohort_data.pivot(index='CohortMonth',\r\n",
        "                                  columns='CohortIndex',\r\n",
        "                                  values='patient_id')\r\n",
        "print(cohort_counts)\r\n",
        "\r\n",
        "cohort_sizes = cohort_counts.iloc[:,0]\r\n",
        "retention = cohort_counts.divide(cohort_sizes, axis=0)\r\n",
        "retention.round(3) * 100\r\n",
        "retention.index = retention.index.strftime('%m-%Y')\r\n",
        "print(retention)\r\n",
        "\r\n",
        "plt.figure(figsize=(10, 8))\r\n",
        "plt.title('Retention rates')\r\n",
        "sns.heatmap(data = retention, annot = True, fmt = '.0%',vmin = 0.0,vmax = 0.5,cmap = 'BuGn')\r\n",
        "plt.show()\r\n",
        "dfs11=cohort_counts.to_csv(\"androidr.csv\")"
      ],
      "execution_count": 13,
      "outputs": [
        {
          "output_type": "stream",
          "text": [
            "(28048, 15)\n",
            "CohortIndex        1      2\n",
            "CohortMonth                \n",
            "2020-12-01   12980.0  213.0\n",
            "2021-01-01   13739.0    NaN\n",
            "CohortIndex    1        2\n",
            "CohortMonth              \n",
            "12-2020      1.0  0.01641\n",
            "01-2021      1.0      NaN\n"
          ],
          "name": "stdout"
        },
        {
          "output_type": "display_data",
          "data": {
            "image/png": "[encoded data removed]",
            "text/plain": [
              "<Figure size 720x576 with 2 Axes>"
            ]
          },
          "metadata": {
            "tags": [],
            "needs_background": "light"
          }
        }
      ]
    },
    {
      "cell_type": "markdown",
      "metadata": {
        "id": "USB3-GDwMLeW"
      },
      "source": [
        "RETENTION RATE CALCULATION WHEN SOURCE=IOS\r\n"
      ]
    },
    {
      "cell_type": "code",
      "metadata": {
        "colab": {
          "base_uri": "https://localhost:8080/",
          "height": 669
        },
        "id": "5NwF6KW8I97Z",
        "outputId": "7db4a98c-bcd2-4bf5-874b-da9d83fb3e74"
      },
      "source": [
        "dfsource1 = df[df['source']=='iOS']\r\n",
        "print(dfsource1.shape)\r\n",
        "grouping_count = dfsource1.groupby(['CohortMonth', 'CohortIndex'])\r\n",
        "cohort_data = grouping_count['patient_id'].apply(pd.Series.nunique)\r\n",
        "cohort_data = cohort_data.reset_index()\r\n",
        "cohort_counts = cohort_data.pivot(index='CohortMonth',\r\n",
        "                                  columns='CohortIndex',\r\n",
        "                                  values='patient_id')\r\n",
        "print(cohort_counts)\r\n",
        "\r\n",
        "cohort_sizes = cohort_counts.iloc[:,0]\r\n",
        "retention = cohort_counts.divide(cohort_sizes, axis=0)\r\n",
        "retention.round(3) * 100\r\n",
        "retention.index = retention.index.strftime('%m-%Y')\r\n",
        "print(retention)\r\n",
        "\r\n",
        "plt.figure(figsize=(10, 8))\r\n",
        "plt.title('Retention rates')\r\n",
        "sns.heatmap(data = retention, annot = True, fmt = '.0%',vmin = 0.0,vmax = 0.5,cmap = 'BuGn')\r\n",
        "plt.show()\r\n",
        "dfs12=cohort_counts.to_csv(\"iosr.csv\")"
      ],
      "execution_count": 14,
      "outputs": [
        {
          "output_type": "stream",
          "text": [
            "(11930, 15)\n",
            "CohortIndex       1      2\n",
            "CohortMonth               \n",
            "2020-12-01   5142.0  227.0\n",
            "2021-01-01   5717.0    NaN\n",
            "CohortIndex    1         2\n",
            "CohortMonth               \n",
            "12-2020      1.0  0.044146\n",
            "01-2021      1.0       NaN\n"
          ],
          "name": "stdout"
        },
        {
          "output_type": "display_data",
          "data": {
            "image/png": "[encoded data removed]",
            "text/plain": [
              "<Figure size 720x576 with 2 Axes>"
            ]
          },
          "metadata": {
            "tags": [],
            "needs_background": "light"
          }
        }
      ]
    },
    {
      "cell_type": "markdown",
      "metadata": {
        "id": "VvOVljipMZUw"
      },
      "source": [
        "RETENTION RATE CALCULATION WHEN SOURCE=MWEB"
      ]
    },
    {
      "cell_type": "code",
      "metadata": {
        "colab": {
          "base_uri": "https://localhost:8080/",
          "height": 669
        },
        "id": "Kz_O2ZCBJFo-",
        "outputId": "854f6b1c-5c8d-4dae-b81e-35fcea277523"
      },
      "source": [
        "dfsource2 = df[df['source']=='mWeb']\r\n",
        "print(dfsource2.shape)\r\n",
        "grouping_count = dfsource2.groupby(['CohortMonth', 'CohortIndex'])\r\n",
        "cohort_data = grouping_count['patient_id'].apply(pd.Series.nunique)\r\n",
        "cohort_data = cohort_data.reset_index()\r\n",
        "cohort_counts = cohort_data.pivot(index='CohortMonth',\r\n",
        "                                  columns='CohortIndex',\r\n",
        "                                  values='patient_id')\r\n",
        "print(cohort_counts)\r\n",
        "\r\n",
        "cohort_sizes = cohort_counts.iloc[:,0]\r\n",
        "retention = cohort_counts.divide(cohort_sizes, axis=0)\r\n",
        "retention.round(3) * 100\r\n",
        "retention.index = retention.index.strftime('%m-%Y')\r\n",
        "print(retention)\r\n",
        "\r\n",
        "plt.figure(figsize=(10, 8))\r\n",
        "plt.title('Retention rates')\r\n",
        "sns.heatmap(data = retention, annot = True, fmt = '.0%',vmin = 0.0,vmax = 0.5,cmap = 'BuGn')\r\n",
        "plt.show()\r\n",
        "dfs13=cohort_counts.to_csv(\"mwebr.csv\")"
      ],
      "execution_count": 15,
      "outputs": [
        {
          "output_type": "stream",
          "text": [
            "(36112, 15)\n",
            "CohortIndex        1     2\n",
            "CohortMonth               \n",
            "2020-12-01   16156.0  72.0\n",
            "2021-01-01   19410.0   NaN\n",
            "CohortIndex    1         2\n",
            "CohortMonth               \n",
            "12-2020      1.0  0.004457\n",
            "01-2021      1.0       NaN\n"
          ],
          "name": "stdout"
        },
        {
          "output_type": "display_data",
          "data": {
            "image/png": "[encoded data removed]",
            "text/plain": [
              "<Figure size 720x576 with 2 Axes>"
            ]
          },
          "metadata": {
            "tags": [],
            "needs_background": "light"
          }
        }
      ]
    },
    {
      "cell_type": "markdown",
      "metadata": {
        "id": "9Rgat708MeeW"
      },
      "source": [
        "RETENTION RATE CALCULATION WHEN STATUS=CONFIRMED"
      ]
    },
    {
      "cell_type": "code",
      "metadata": {
        "colab": {
          "base_uri": "https://localhost:8080/",
          "height": 669
        },
        "id": "SRYsUOnvhOA-",
        "outputId": "9072863f-9474-4c66-e57c-ab290932259b"
      },
      "source": [
        "dfstatus = df[df['status']=='CONFIRMED']\r\n",
        "print(dfstatus.shape)\r\n",
        "grouping_count = dfstatus.groupby(['CohortMonth', 'CohortIndex'])\r\n",
        "cohort_data = grouping_count['patient_id'].apply(pd.Series.nunique)\r\n",
        "cohort_data = cohort_data.reset_index()\r\n",
        "cohort_counts = cohort_data.pivot(index='CohortMonth',\r\n",
        "                                  columns='CohortIndex',\r\n",
        "                                  values='patient_id')\r\n",
        "print(cohort_counts)\r\n",
        "\r\n",
        "cohort_sizes = cohort_counts.iloc[:,0]\r\n",
        "retention = cohort_counts.divide(cohort_sizes, axis=0)\r\n",
        "retention.round(3) * 100\r\n",
        "retention.index = retention.index.strftime('%m-%Y')\r\n",
        "print(retention)\r\n",
        "\r\n",
        "plt.figure(figsize=(10, 8))\r\n",
        "plt.title('Retention rates')\r\n",
        "sns.heatmap(data = retention, annot = True, fmt = '.0%',vmin = 0.0,vmax = 0.5,cmap = 'BuGn')\r\n",
        "plt.show()\r\n",
        "\r\n",
        "dfs10=cohort_counts.to_csv(\"confretention.csv\")"
      ],
      "execution_count": 16,
      "outputs": [
        {
          "output_type": "stream",
          "text": [
            "(59272, 15)\n",
            "CohortIndex        1      2\n",
            "CohortMonth                \n",
            "2020-12-01   27177.0  426.0\n",
            "2021-01-01   30469.0    NaN\n",
            "CohortIndex    1         2\n",
            "CohortMonth               \n",
            "12-2020      1.0  0.015675\n",
            "01-2021      1.0       NaN\n"
          ],
          "name": "stdout"
        },
        {
          "output_type": "display_data",
          "data": {
            "image/png": "[encoded data removed]",
            "text/plain": [
              "<Figure size 720x576 with 2 Axes>"
            ]
          },
          "metadata": {
            "tags": [],
            "needs_background": "light"
          }
        }
      ]
    },
    {
      "cell_type": "markdown",
      "metadata": {
        "id": "tuky8gtaMk12"
      },
      "source": [
        "RETENTION RATE CALCULATION WHEN CITY=BANGALORE\r\n"
      ]
    },
    {
      "cell_type": "code",
      "metadata": {
        "colab": {
          "base_uri": "https://localhost:8080/",
          "height": 669
        },
        "id": "EAYkxHK1pWV9",
        "outputId": "40b8cd86-b288-4541-842e-592327e5f088"
      },
      "source": [
        "dfcityb = df[df['city']=='Bangalore']\r\n",
        "print(dfcityb.shape)\r\n",
        "grouping_count = dfcityb.groupby(['CohortMonth', 'CohortIndex'])\r\n",
        "cohort_data = grouping_count['patient_id'].apply(pd.Series.nunique)\r\n",
        "cohort_data = cohort_data.reset_index()\r\n",
        "cohort_counts = cohort_data.pivot(index='CohortMonth',\r\n",
        "                                  columns='CohortIndex',\r\n",
        "                                  values='patient_id')\r\n",
        "print(cohort_counts)\r\n",
        "\r\n",
        "cohort_sizes = cohort_counts.iloc[:,0]\r\n",
        "retention = cohort_counts.divide(cohort_sizes, axis=0)\r\n",
        "retention.round(3) * 100\r\n",
        "retention.index = retention.index.strftime('%m-%Y')\r\n",
        "print(retention)\r\n",
        "\r\n",
        "plt.figure(figsize=(10, 8))\r\n",
        "plt.title('Retention rates')\r\n",
        "sns.heatmap(data = retention, annot = True, fmt = '.0%',vmin = 0.0,vmax = 0.5,cmap = 'BuGn')\r\n",
        "plt.show()"
      ],
      "execution_count": 17,
      "outputs": [
        {
          "output_type": "stream",
          "text": [
            "(19954, 15)\n",
            "CohortIndex        1      2\n",
            "CohortMonth                \n",
            "2020-12-01    8771.0  169.0\n",
            "2021-01-01   10212.0    NaN\n",
            "CohortIndex    1         2\n",
            "CohortMonth               \n",
            "12-2020      1.0  0.019268\n",
            "01-2021      1.0       NaN\n"
          ],
          "name": "stdout"
        },
        {
          "output_type": "display_data",
          "data": {
            "image/png": "[encoded data removed]",
            "text/plain": [
              "<Figure size 720x576 with 2 Axes>"
            ]
          },
          "metadata": {
            "tags": [],
            "needs_background": "light"
          }
        }
      ]
    },
    {
      "cell_type": "markdown",
      "metadata": {
        "id": "_fZwgkk4MpFH"
      },
      "source": [
        "RETENTION RATE CALCULATION WHEN CITY=GURGAON\r\n"
      ]
    },
    {
      "cell_type": "code",
      "metadata": {
        "colab": {
          "base_uri": "https://localhost:8080/",
          "height": 669
        },
        "id": "jwTgDb9NsyJo",
        "outputId": "19abba67-faa4-48d3-f1cb-740935db760b"
      },
      "source": [
        "dfcityg = df[df['city']=='Gurgaon']\r\n",
        "print(dfcityg.shape)\r\n",
        "grouping_count = dfcityg.groupby(['CohortMonth', 'CohortIndex'])\r\n",
        "cohort_data = grouping_count['patient_id'].apply(pd.Series.nunique)\r\n",
        "cohort_data = cohort_data.reset_index()\r\n",
        "cohort_counts = cohort_data.pivot(index='CohortMonth',\r\n",
        "                                  columns='CohortIndex',\r\n",
        "                                  values='patient_id')\r\n",
        "print(cohort_counts)\r\n",
        "\r\n",
        "cohort_sizes = cohort_counts.iloc[:,0]\r\n",
        "retention = cohort_counts.divide(cohort_sizes, axis=0)\r\n",
        "retention.round(3) * 100\r\n",
        "retention.index = retention.index.strftime('%m-%Y')\r\n",
        "print(retention)\r\n",
        "\r\n",
        "plt.figure(figsize=(10, 8))\r\n",
        "plt.title('Retention rates')\r\n",
        "sns.heatmap(data = retention, annot = True, fmt = '.0%',vmin = 0.0,vmax = 0.5,cmap = 'BuGn')\r\n",
        "plt.show()"
      ],
      "execution_count": 18,
      "outputs": [
        {
          "output_type": "stream",
          "text": [
            "(6863, 15)\n",
            "CohortIndex       1     2\n",
            "CohortMonth              \n",
            "2020-12-01   3099.0  63.0\n",
            "2021-01-01   3391.0   NaN\n",
            "CohortIndex    1         2\n",
            "CohortMonth               \n",
            "12-2020      1.0  0.020329\n",
            "01-2021      1.0       NaN\n"
          ],
          "name": "stdout"
        },
        {
          "output_type": "display_data",
          "data": {
            "image/png": "[encoded data removed]",
            "text/plain": [
              "<Figure size 720x576 with 2 Axes>"
            ]
          },
          "metadata": {
            "tags": [],
            "needs_background": "light"
          }
        }
      ]
    }
  ]
}